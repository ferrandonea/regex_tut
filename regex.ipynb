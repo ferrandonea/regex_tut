{
 "cells": [
  {
   "cell_type": "markdown",
   "metadata": {},
   "source": [
    "# Regex"
   ]
  },
  {
   "cell_type": "markdown",
   "metadata": {},
   "source": [
    "Para seleccionar números, se pone el número .\n",
    "Por ejemplo si patrón = <span style=\"color:red\">123</span>\n",
    "* abc**123**xyz\n",
    "* define \"**123**\"\n",
    "* var g = **123**;"
   ]
  },
  {
   "cell_type": "markdown",
   "metadata": {},
   "source": [
    "El . es un comodín. Puede hacer match en cualquier caracter individual. Esto pasa por encima del caracter del punto, si lo queremos usar hay que usar \\.\n",
    "\n",
    "Regex = <span style=\"color:red\">...\\\\.</span>\n",
    "\n",
    "* **cat.**\n",
    "* **896.**\n",
    "* **?=+.**\n",
    "* abc1"
   ]
  },
  {
   "cell_type": "markdown",
   "metadata": {},
   "source": [
    "Podemos validar patrones con [abc] que van a hacer match en un único a,b,c y nada más.\n",
    "Regex = <span style=\"color:red\">[cmf]an</span>\n",
    "\n",
    "* Match\t**can**\tSuccess\n",
    "* Match\t**man**\tSuccess\n",
    "* Match\t**fan**\tSuccess\n",
    "* Skip\tdan\tTo be completed\n",
    "* Skip\tran\tTo be completed\n",
    "* Skip\tpan\n"
   ]
  },
  {
   "cell_type": "markdown",
   "metadata": {},
   "source": [
    "A veces hay caracteres que no queremos hacer match, por ejemplo queremos números que no sean del código de área 605. podemos excluir usando ^ , por ejemplo [^abc] va a ser match a todos los caracteres excepto a,b,c"
   ]
  },
  {
   "cell_type": "markdown",
   "metadata": {},
   "source": [
    "Regex = [^b]og\n",
    "\n",
    "* Match\t**hog**\tSuccess\n",
    "* Match\t**dog**\tSuccess\n",
    "* Skip\tbog"
   ]
  },
  {
   "cell_type": "markdown",
   "metadata": {},
   "source": [
    "también se podría haber hecho [hd]og que selecciona hog y dog pero no bog"
   ]
  },
  {
   "cell_type": "markdown",
   "metadata": {},
   "source": [
    "Pero, ¿y si queremos hacer coincidir un carácter que puede estar en un rango secuencial de caracteres? ¿No tenemos más opción que enumerarlos todos?\n",
    "\n",
    "Afortunadamente, al usar la notación de corchetes, existe una forma abreviada de hacer coincidir un carácter en una lista de caracteres secuenciales usando el guion para indicar un rango de caracteres. Por ejemplo, el patrón [0-6] solo coincidirá con cualquier dígito del cero al seis, y nada más. Del mismo modo, [^n-p] solo coincidirá con cualquier carácter individual excepto las letras de la n a la p.\n",
    "\n",
    "ambién se pueden usar múltiples rangos de caracteres en el mismo conjunto de corchetes, junto con caracteres individuales. Un ejemplo de esto es el metacarácter alfanumérico \\w que es equivalente al rango de caracteres [A-Za-z0-9_] y a menudo se utiliza para hacer coincidir caracteres en texto.\n",
    "\n"
   ]
  },
  {
   "cell_type": "markdown",
   "metadata": {},
   "source": [
    "Regex = [A-Z][n-p][a-c]\n",
    "\n",
    "* Match\t**Ana**\tSuccess\n",
    "* Match\t**Bob**\tSuccess\n",
    "* Match\t**Cpc**\tSuccess\n",
    "* Skip\taax\tTo be completed\n",
    "* Skip\tbby\tTo be completed\n",
    "* Skip\tccz"
   ]
  },
  {
   "cell_type": "markdown",
   "metadata": {},
   "source": []
  }
 ],
 "metadata": {
  "kernelspec": {
   "display_name": ".venv",
   "language": "python",
   "name": "python3"
  },
  "language_info": {
   "codemirror_mode": {
    "name": "ipython",
    "version": 3
   },
   "file_extension": ".py",
   "mimetype": "text/x-python",
   "name": "python",
   "nbconvert_exporter": "python",
   "pygments_lexer": "ipython3",
   "version": "3.11.0"
  },
  "orig_nbformat": 4
 },
 "nbformat": 4,
 "nbformat_minor": 2
}
