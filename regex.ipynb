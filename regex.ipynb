{
 "cells": [
  {
   "cell_type": "markdown",
   "metadata": {},
   "source": [
    "# Regex"
   ]
  },
  {
   "cell_type": "markdown",
   "metadata": {},
   "source": [
    "Para seleccionar números, se pone el número .\n",
    "Por ejemplo si patrón = <span style=\"color:red\">123</span>\n",
    "* abc**123**xyz\n",
    "* define \"**123**\"\n",
    "* var g = **123**;"
   ]
  },
  {
   "cell_type": "markdown",
   "metadata": {},
   "source": [
    "El . es un comodín. Puede hacer match en cualquier caracter individual. Esto pasa por encima del caracter del punto, si lo queremos usar hay que usar \\.\n",
    "\n",
    "Regex = <span style=\"color:red\">...\\\\.</span>\n",
    "\n",
    "* **cat.**\n",
    "* **896.**\n",
    "* **?=+.**\n",
    "* abc1"
   ]
  },
  {
   "cell_type": "markdown",
   "metadata": {},
   "source": [
    "Podemos validar patrones con [abc] que van a hacer match en un único a,b,c y nada más.\n",
    "Regex = <span style=\"color:red\">[cmf]an</span>\n",
    "\n",
    "* Match\t**can**\tSuccess\n",
    "* Match\t**man**\tSuccess\n",
    "* Match\t**fan**\tSuccess\n",
    "* Skip\tdan\tTo be completed\n",
    "* Skip\tran\tTo be completed\n",
    "* Skip\tpan\n"
   ]
  },
  {
   "cell_type": "markdown",
   "metadata": {},
   "source": [
    "A veces hay caracteres que no queremos hacer match, por ejemplo queremos números que no sean del código de área 605. podemos excluir usando ^ , por ejemplo [^abc] va a ser match a todos los caracteres excepto a,b,c"
   ]
  },
  {
   "cell_type": "markdown",
   "metadata": {},
   "source": [
    "Regex = [^b]og\n",
    "\n",
    "* Match\t**hog**\tSuccess\n",
    "* Match\t**dog**\tSuccess\n",
    "* Skip\tbog"
   ]
  },
  {
   "cell_type": "markdown",
   "metadata": {},
   "source": [
    "también se podría haber hecho [hd]og que selecciona hog y dog pero no bog"
   ]
  },
  {
   "cell_type": "markdown",
   "metadata": {},
   "source": [
    "Pero, ¿y si queremos hacer coincidir un carácter que puede estar en un rango secuencial de caracteres? ¿No tenemos más opción que enumerarlos todos?\n",
    "\n",
    "Afortunadamente, al usar la notación de corchetes, existe una forma abreviada de hacer coincidir un carácter en una lista de caracteres secuenciales usando el guion para indicar un rango de caracteres. Por ejemplo, el patrón [0-6] solo coincidirá con cualquier dígito del cero al seis, y nada más. Del mismo modo, [^n-p] solo coincidirá con cualquier carácter individual excepto las letras de la n a la p.\n",
    "\n",
    "ambién se pueden usar múltiples rangos de caracteres en el mismo conjunto de corchetes, junto con caracteres individuales. Un ejemplo de esto es el metacarácter alfanumérico \\w que es equivalente al rango de caracteres [A-Za-z0-9_] y a menudo se utiliza para hacer coincidir caracteres en texto.\n",
    "\n"
   ]
  },
  {
   "cell_type": "markdown",
   "metadata": {},
   "source": [
    "Regex = [A-Z][n-p][a-c]\n",
    "\n",
    "* Match\t**Ana**\tSuccess\n",
    "* Match\t**Bob**\tSuccess\n",
    "* Match\t**Cpc**\tSuccess\n",
    "* Skip\taax\tTo be completed\n",
    "* Skip\tbby\tTo be completed\n",
    "* Skip\tccz"
   ]
  },
  {
   "cell_type": "markdown",
   "metadata": {},
   "source": [
    "Hasta ahora hemos aprendido cómo especificar el rango de caracteres que queremos coincidir, pero ¿qué pasa con el número de repeticiones de caracteres que queremos coincidir? Una forma de hacerlo es especificar explícitamente cuántos caracteres queremos, por ejemplo, \\d\\d\\d, que coincidiría con exactamente tres dígitos.\n",
    "\n",
    "Una forma más conveniente es especificar cuántas repeticiones de cada carácter queremos usando la notación de llaves. Por ejemplo, a{3} coincidirá con el carácter \"a\" exactamente tres veces. Algunos motores de expresiones regulares incluso te permitirán especificar un rango para esta repetición, de tal manera que a{1,3} coincidirá con el carácter \"a\" no más de 3 veces, pero al menos una vez, por ejemplo.\n",
    "\n",
    "Este cuantificador se puede usar con cualquier carácter o metacaracteres especiales, por ejemplo, w{3} (tres w's), [wxy]{5} (cinco caracteres, cada uno de los cuales puede ser una w, x o y) y .{2,6} (entre dos y seis de cualquier carácter)."
   ]
  },
  {
   "cell_type": "markdown",
   "metadata": {},
   "source": [
    "Regex = waz{3,5}up\n",
    "\n",
    "* Match\t**wazzzzzup**\tSuccess\n",
    "* Match\t**wazzzup**\tSuccess\n",
    "* Skip\twazup"
   ]
  },
  {
   "cell_type": "code",
   "execution_count": null,
   "metadata": {},
   "outputs": [],
   "source": []
  },
  {
   "cell_type": "markdown",
   "metadata": {},
   "source": [
    "Un concepto poderoso en las expresiones regulares es la capacidad de coincidir con un número arbitrario de caracteres. Por ejemplo, imagina que escribiste un formulario que tiene un campo de donación que acepta un valor numérico en dólares. Un usuario adinerado podría pasar y querer donar $25,000, mientras que un usuario normal podría querer donar $25.\n",
    "\n",
    "Una forma de expresar tal patrón sería usar lo que se conoce como la Estrella de Kleene y el Plus de Kleene, que esencialmente representan 0 o más o 1 o más del carácter que sigue (siempre sigue a un carácter o grupo). Por ejemplo, para coincidir con las donaciones anteriores, podemos usar el patrón \\d* para coincidir con cualquier número de dígitos, pero una expresión regular más estricta sería \\d+ que asegura que la cadena de entrada tiene al menos un dígito.\n",
    "\n",
    "Estos cuantificadores se pueden usar con cualquier carácter o metacaracteres especiales, por ejemplo a+ (uno o más a's), [abc]+ (uno o más de cualquier carácter a, b o c) y .* (cero o más de cualquier carácter)."
   ]
  },
  {
   "cell_type": "markdown",
   "metadata": {},
   "source": [
    "Regex = aa+b*c+\n",
    "\n",
    "* Match\t**aaaabcc**\tSuccess\n",
    "* Match\t**aabbbbc**\tSuccess\n",
    "* Match\t**aacc**\tSuccess\n",
    "* Skip\ta"
   ]
  },
  {
   "cell_type": "markdown",
   "metadata": {},
   "source": [
    "Otro cuantificador que es realmente común al hacer coincidir y extraer texto es el metacarácter ? (signo de interrogación) que denota opcionalidad. Este metacarácter te permite hacer coincidir cero o uno del carácter o grupo precedente. Por ejemplo, el patrón ab?c coincidirá con las cadenas \"abc\" o \"ac\" porque la b se considera opcional.\n",
    "\n",
    "Similar al metacarácter punto, el signo de interrogación es un carácter especial y tendrás que escaparlo usando una barra invertida ? para hacer coincidir un carácter de signo de interrogación simple en una cadena."
   ]
  },
  {
   "cell_type": "markdown",
   "metadata": {},
   "source": [
    "Regex = \\d+ files? found\\? , también podría ser = \\d\\d? files? found\\? pero es más restrictivo\n",
    "\n",
    "* Match\t**1 file found?**\tSuccess\n",
    "* Match\t**2 files found?**\tSuccess\n",
    "* Match\t**24 files found?**\tSuccess\n",
    "* Skip\tNo files found."
   ]
  },
  {
   "cell_type": "markdown",
   "metadata": {},
   "source": [
    "Al tratar con entradas del mundo real, como archivos de registro e incluso entradas de usuarios, es difícil no encontrarse con espacios en blanco. Los usamos para formatear piezas de información para que sea más fácil leer y escanear visualmente, y un simple espacio puede complicar la expresión regular más sencilla.\n",
    "\n",
    "Las formas más comunes de espacios en blanco que usarás con expresiones regulares son el espacio (␣), el tabulador (\\t), el salto de línea (\\n) y el retorno de carro (\\r) (útil en entornos de Windows), y estos caracteres especiales coinciden con cada uno de sus espacios en blanco respectivos. Además, un carácter especial de espacio en blanco \\s coincidirá con cualquiera de los espacios en blanco específicos anteriores y es extremadamente útil al tratar con texto de entrada en bruto.\n",
    "\n"
   ]
  },
  {
   "cell_type": "markdown",
   "metadata": {},
   "source": [
    "Regex = \n",
    "\n",
    "* Match\t**1.   abc**\tSuccess\n",
    "* Match\t**2.\tabc**\tSuccess\n",
    "* Match\t**3.           abc**\tSuccess\n",
    "* Skip\t4.abc"
   ]
  },
  {
   "cell_type": "markdown",
   "metadata": {},
   "source": [
    "Hasta ahora, hemos estado escribiendo expresiones regulares que coinciden parcialmente con fragmentos en todo el texto. A veces esto no es deseable, imagina, por ejemplo, que queremos coincidir con la palabra \"success\" en un archivo de registro. ¡Ciertamente no queremos que ese patrón coincida con una línea que diga \"Error: operación no exitosa\"! Por eso, a menudo es una buena práctica escribir expresiones regulares lo más específicas posible para asegurarnos de no obtener falsos positivos al hacer coincidir con texto del mundo real.\n",
    "\n",
    "Una forma de ajustar nuestros patrones es definir un patrón que describa tanto el inicio como el final de la línea usando los metacaracteres especiales ^ (sombrero) y $ (signo de dólar). En el ejemplo anterior, podemos usar el patrón ^success para coincidir solo con una línea que comienza con la palabra \"success\", pero no con la línea \"Error: operación no exitosa\". Y si combinas tanto el sombrero como el signo de dólar, creas un patrón que coincide completamente con la línea desde el principio hasta el final.\n",
    "\n",
    "Ten en cuenta que esto es diferente al sombrero utilizado dentro de un conjunto de corchetes [^...] para excluir caracteres, lo que puede ser confuso al leer expresiones regulares.\n",
    "\n"
   ]
  },
  {
   "cell_type": "markdown",
   "metadata": {},
   "source": [
    "Regex = ^Mission: successful$\n",
    "* Match\t**Mission: successful**\tSuccess\n",
    "* Skip\tLast Mission: unsuccessful\tTo be completed\n",
    "* Skip\tNext Mission: successful upon capture of target"
   ]
  },
  {
   "cell_type": "markdown",
   "metadata": {},
   "source": [
    "Las expresiones regulares nos permiten no solo coincidir con el texto, sino también extraer información para su posterior procesamiento. Esto se hace definiendo grupos de caracteres y capturándolos usando los metacaracteres especiales paréntesis ( y ). Cualquier subpatrón dentro de un par de paréntesis será capturado como un grupo. En la práctica, esto se puede usar para extraer información como números de teléfono o correos electrónicos de todo tipo de datos.\n",
    "\n",
    "Imagina, por ejemplo, que tuvieras una herramienta de línea de comandos para listar todos los archivos de imagen que tienes en la nube. Luego podrías usar un patrón como ^(IMG\\d+.png)$ para capturar y extraer el nombre completo del archivo, pero si solo quisieras capturar el nombre del archivo sin la extensión, podrías usar el patrón ^(IMG\\\\d+).png\\$ que solo captura la parte anterior al punto."
   ]
  },
  {
   "cell_type": "markdown",
   "metadata": {},
   "source": [
    "Regex = ^(file.+)\\.pdf$\n",
    "\n",
    "\n",
    "* Capture\t**file_record_transcript.pdf**\tfile_record_transcript\tSuccess\n",
    "* Capture\t**file_07241999.pdf**\tfile_07241999\tSuccess\n",
    "* Skip\ttestfile_fake.pdf.tmp"
   ]
  },
  {
   "cell_type": "markdown",
   "metadata": {},
   "source": [
    "Cuando trabajas con datos complejos, fácilmente puedes encontrarte teniendo que extraer múltiples capas de información, lo que puede resultar en grupos anidados. Generalmente, los resultados de los grupos capturados están en el orden en que se definen (en orden por paréntesis abierto).\n",
    "\n",
    "Toma el ejemplo de la lección anterior, de capturar los nombres de archivo de todas las imágenes que tienes en una lista. Si cada uno de estos archivos de imagen tuviera un número de imagen secuencial en el nombre del archivo, podrías extraer tanto el nombre del archivo como el número de imagen usando el mismo patrón escribiendo una expresión como ^(IMG(\\d+)).png$ (usando un paréntesis anidado para capturar los dígitos).\n",
    "\n",
    "Los grupos anidados se leen de izquierda a derecha en el patrón, siendo el primer grupo de captura el contenido del primer grupo de paréntesis, etc."
   ]
  },
  {
   "cell_type": "markdown",
   "metadata": {},
   "source": [
    "Regex = (\\w+ (\\d+))\n",
    "* Capture\tJan 1987\tJan 1987 1987\tSuccess\n",
    "* Capture\tMay 1969\tMay 1969 1969\tSuccess\n",
    "* Capture\tAug 2011\tAug 2011 2011\tSuccess"
   ]
  },
  {
   "cell_type": "markdown",
   "metadata": {},
   "source": [
    "dos los cuantificadores, incluidos la estrella *, el plus +, la repetición {m,n} y el signo de interrogación ?, pueden ser usados dentro de los patrones de grupos de captura. Esta es la única manera de aplicar cuantificadores a secuencias de caracteres en lugar de a los caracteres individuales.\n",
    "\n",
    "Por ejemplo, si supiera que un número de teléfono puede o no contener un código de área, el patrón correcto probaría la existencia de todo el grupo de dígitos (\\d{3})? y no los caracteres individuales (lo cual sería incorrecto).\n",
    "\n",
    "Dependiendo del motor de expresiones regulares que estés utilizando, también puedes usar grupos no capturadores, que te permitirán hacer coincidir el grupo pero no hacer que aparezca en los resultados.\n",
    "\n"
   ]
  },
  {
   "cell_type": "markdown",
   "metadata": {},
   "source": [
    "Regex = (\\d+)x(\\d+)\n",
    "* Capture\t1280x720\t1280 720\tSuccess\n",
    "* Capture\t1920x1600\t1920 1600\tSuccess\n",
    "* Capture\t1024x768\t1024 768\tSuccess"
   ]
  },
  {
   "cell_type": "markdown",
   "metadata": {},
   "source": [
    "siempre es bueno ser preciso, y eso se aplica a la programación, al hablar e incluso a las expresiones regulares. Por ejemplo, no escribirías una lista de compras para alguien diciendo \"Compra más .*\" porque no tendrías idea de lo que podrías obtener a cambio. En su lugar, escribirías \"Compra más leche\" o \"Compra más pan\", y en expresiones regulares, en realidad podemos definir estas condicionales explícitamente.\n",
    "\n",
    "Específicamente, al usar grupos, puedes utilizar el | (OR lógico, también conocido como la tubería o pipe) para denotar diferentes conjuntos posibles de caracteres. En el ejemplo anterior, puedo escribir el patrón \"Compra más (leche|pan|jugo)\" para coincidir solo con las cadenas Compra más leche, Compra más pan o Compra más jugo.\n",
    "\n",
    "Como grupos normales, puedes usar cualquier secuencia de caracteres o metacaracteres en una condición. Por ejemplo, ([cb]ats*|[dh]ogs?) coincidiría con cats o bats, o con dogs o hogs. Escribir patrones con muchas condiciones puede ser difícil de leer, por lo que deberías considerar hacerlos patrones separados si se vuelven demasiado complejos.\n"
   ]
  },
  {
   "cell_type": "markdown",
   "metadata": {},
   "source": [
    "Regex = I love (cats|dogs)\n",
    "\n",
    "* Match\tI love cats\tSuccess\n",
    "* Match\tI love dogs\tSuccess\n",
    "* Skip\tI love logs\tTo be completed\n",
    "* Skip\tI love cogs"
   ]
  },
  {
   "cell_type": "markdown",
   "metadata": {},
   "source": [
    "Meta caracteres"
   ]
  },
  {
   "cell_type": "markdown",
   "metadata": {},
   "source": [
    "* \\d dígitos\n",
    "* \\s espacio en blanco\n",
    "* \\w alfanumérico\n",
    "* \\D no dígito\n",
    "* \\S no espacio en blanco\n",
    "* \\W no alfanumérico\n",
    "* \\b limite entre palabra y n palabra\n"
   ]
  },
  {
   "cell_type": "code",
   "execution_count": null,
   "metadata": {},
   "outputs": [],
   "source": [
    "import re\n",
    "frase = \"\""
   ]
  }
 ],
 "metadata": {
  "kernelspec": {
   "display_name": ".venv",
   "language": "python",
   "name": "python3"
  },
  "language_info": {
   "codemirror_mode": {
    "name": "ipython",
    "version": 3
   },
   "file_extension": ".py",
   "mimetype": "text/x-python",
   "name": "python",
   "nbconvert_exporter": "python",
   "pygments_lexer": "ipython3",
   "version": "3.11.0"
  },
  "orig_nbformat": 4
 },
 "nbformat": 4,
 "nbformat_minor": 2
}
