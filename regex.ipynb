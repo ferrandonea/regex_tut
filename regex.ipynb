{
 "cells": [
  {
   "cell_type": "markdown",
   "metadata": {},
   "source": [
    "# Regex"
   ]
  },
  {
   "cell_type": "markdown",
   "metadata": {},
   "source": [
    "Para seleccionar números, se pone el número .\n",
    "Por ejemplo si patrón = <span style=\"color:red\">123</span>\n",
    "* abc**123**xyz\n",
    "* define \"**123**\"\n",
    "* var g = **123**;"
   ]
  },
  {
   "cell_type": "markdown",
   "metadata": {},
   "source": [
    "El . es un comodín. Puede hacer match en cualquier caracter individual. Esto pasa por encima del caracter del punto, si lo queremos usar hay que usar \\.\n",
    "\n",
    "Regex = <span style=\"color:red\">...\\\\.</span>\n",
    "\n",
    "* **cat.**\n",
    "* **896.**\n",
    "* **?=+.**\n",
    "* abc1"
   ]
  },
  {
   "cell_type": "markdown",
   "metadata": {},
   "source": []
  }
 ],
 "metadata": {
  "kernelspec": {
   "display_name": ".venv",
   "language": "python",
   "name": "python3"
  },
  "language_info": {
   "codemirror_mode": {
    "name": "ipython",
    "version": 3
   },
   "file_extension": ".py",
   "mimetype": "text/x-python",
   "name": "python",
   "nbconvert_exporter": "python",
   "pygments_lexer": "ipython3",
   "version": "3.11.0"
  },
  "orig_nbformat": 4
 },
 "nbformat": 4,
 "nbformat_minor": 2
}
