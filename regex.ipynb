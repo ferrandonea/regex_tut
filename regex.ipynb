{
 "cells": [
  {
   "cell_type": "markdown",
   "metadata": {},
   "source": [
    "# Regex"
   ]
  },
  {
   "cell_type": "markdown",
   "metadata": {},
   "source": [
    "Para seleccionar números, se pone el número .\n",
    "Por ejemplo si patrón = <span style=\"color:red\">123</span>\n",
    "* abc**123**xyz\n",
    "* define \"**123**\"\n",
    "* var g = **123**;"
   ]
  },
  {
   "cell_type": "markdown",
   "metadata": {},
   "source": [
    "El . es un comodín. Puede hacer match en cualquier caracter individual. Esto pasa por encima del caracter del punto, si lo queremos usar hay que usar \\.\n",
    "\n",
    "Regex = <span style=\"color:red\">...\\\\.</span>\n",
    "\n",
    "* **cat.**\n",
    "* **896.**\n",
    "* **?=+.**\n",
    "* abc1"
   ]
  },
  {
   "cell_type": "markdown",
   "metadata": {},
   "source": [
    "Podemos validar patrones con [abc] que van a hacer match en un único a,b,c y nada más.\n",
    "Regex = <span style=\"color:red\">[cmf]an</span>\n",
    "\n",
    "* Match\t**can**\tSuccess\n",
    "* Match\t**man**\tSuccess\n",
    "* Match\t**fan**\tSuccess\n",
    "* Skip\tdan\tTo be completed\n",
    "* Skip\tran\tTo be completed\n",
    "* Skip\tpan\n"
   ]
  },
  {
   "cell_type": "markdown",
   "metadata": {},
   "source": [
    "A veces hay caracteres que no queremos hacer match, por ejemplo queremos números que no sean del código de área 605. podemos excluir usando ^ , por ejemplo [^abc] va a ser match a todos los caracteres excepto a,b,c"
   ]
  },
  {
   "cell_type": "markdown",
   "metadata": {},
   "source": [
    "Regex = [^b]og\n",
    "\n",
    "* Match\t**hog**\tSuccess\n",
    "* Match\t**dog**\tSuccess\n",
    "* Skip\tbog"
   ]
  },
  {
   "cell_type": "markdown",
   "metadata": {},
   "source": [
    "también se podría haber hecho [hd]og que selecciona hog y dog pero no bog"
   ]
  },
  {
   "cell_type": "markdown",
   "metadata": {},
   "source": [
    "Pero, ¿y si queremos hacer coincidir un carácter que puede estar en un rango secuencial de caracteres? ¿No tenemos más opción que enumerarlos todos?\n",
    "\n",
    "Afortunadamente, al usar la notación de corchetes, existe una forma abreviada de hacer coincidir un carácter en una lista de caracteres secuenciales usando el guion para indicar un rango de caracteres. Por ejemplo, el patrón [0-6] solo coincidirá con cualquier dígito del cero al seis, y nada más. Del mismo modo, [^n-p] solo coincidirá con cualquier carácter individual excepto las letras de la n a la p.\n",
    "\n",
    "ambién se pueden usar múltiples rangos de caracteres en el mismo conjunto de corchetes, junto con caracteres individuales. Un ejemplo de esto es el metacarácter alfanumérico \\w que es equivalente al rango de caracteres [A-Za-z0-9_] y a menudo se utiliza para hacer coincidir caracteres en texto.\n",
    "\n"
   ]
  },
  {
   "cell_type": "markdown",
   "metadata": {},
   "source": [
    "Regex = [A-Z][n-p][a-c]\n",
    "\n",
    "* Match\t**Ana**\tSuccess\n",
    "* Match\t**Bob**\tSuccess\n",
    "* Match\t**Cpc**\tSuccess\n",
    "* Skip\taax\tTo be completed\n",
    "* Skip\tbby\tTo be completed\n",
    "* Skip\tccz"
   ]
  },
  {
   "cell_type": "markdown",
   "metadata": {},
   "source": [
    "Hasta ahora hemos aprendido cómo especificar el rango de caracteres que queremos coincidir, pero ¿qué pasa con el número de repeticiones de caracteres que queremos coincidir? Una forma de hacerlo es especificar explícitamente cuántos caracteres queremos, por ejemplo, \\d\\d\\d, que coincidiría con exactamente tres dígitos.\n",
    "\n",
    "Una forma más conveniente es especificar cuántas repeticiones de cada carácter queremos usando la notación de llaves. Por ejemplo, a{3} coincidirá con el carácter \"a\" exactamente tres veces. Algunos motores de expresiones regulares incluso te permitirán especificar un rango para esta repetición, de tal manera que a{1,3} coincidirá con el carácter \"a\" no más de 3 veces, pero al menos una vez, por ejemplo.\n",
    "\n",
    "Este cuantificador se puede usar con cualquier carácter o metacaracteres especiales, por ejemplo, w{3} (tres w's), [wxy]{5} (cinco caracteres, cada uno de los cuales puede ser una w, x o y) y .{2,6} (entre dos y seis de cualquier carácter)."
   ]
  },
  {
   "cell_type": "markdown",
   "metadata": {},
   "source": [
    "Regex = waz{3,5}up\n",
    "\n",
    "* Match\t**wazzzzzup**\tSuccess\n",
    "* Match\t**wazzzup**\tSuccess\n",
    "* Skip\twazup"
   ]
  },
  {
   "cell_type": "code",
   "execution_count": null,
   "metadata": {},
   "outputs": [],
   "source": []
  },
  {
   "cell_type": "markdown",
   "metadata": {},
   "source": [
    "Un concepto poderoso en las expresiones regulares es la capacidad de coincidir con un número arbitrario de caracteres. Por ejemplo, imagina que escribiste un formulario que tiene un campo de donación que acepta un valor numérico en dólares. Un usuario adinerado podría pasar y querer donar $25,000, mientras que un usuario normal podría querer donar $25.\n",
    "\n",
    "Una forma de expresar tal patrón sería usar lo que se conoce como la Estrella de Kleene y el Plus de Kleene, que esencialmente representan 0 o más o 1 o más del carácter que sigue (siempre sigue a un carácter o grupo). Por ejemplo, para coincidir con las donaciones anteriores, podemos usar el patrón \\d* para coincidir con cualquier número de dígitos, pero una expresión regular más estricta sería \\d+ que asegura que la cadena de entrada tiene al menos un dígito.\n",
    "\n",
    "Estos cuantificadores se pueden usar con cualquier carácter o metacaracteres especiales, por ejemplo a+ (uno o más a's), [abc]+ (uno o más de cualquier carácter a, b o c) y .* (cero o más de cualquier carácter)."
   ]
  },
  {
   "cell_type": "markdown",
   "metadata": {},
   "source": [
    "Regex = aa+b*c+\n",
    "\n",
    "* Match\t**aaaabcc**\tSuccess\n",
    "* Match\t**aabbbbc**\tSuccess\n",
    "* Match\t**aacc**\tSuccess\n",
    "* Skip\ta"
   ]
  },
  {
   "cell_type": "markdown",
   "metadata": {},
   "source": [
    "Otro cuantificador que es realmente común al hacer coincidir y extraer texto es el metacarácter ? (signo de interrogación) que denota opcionalidad. Este metacarácter te permite hacer coincidir cero o uno del carácter o grupo precedente. Por ejemplo, el patrón ab?c coincidirá con las cadenas \"abc\" o \"ac\" porque la b se considera opcional.\n",
    "\n",
    "Similar al metacarácter punto, el signo de interrogación es un carácter especial y tendrás que escaparlo usando una barra invertida ? para hacer coincidir un carácter de signo de interrogación simple en una cadena."
   ]
  },
  {
   "cell_type": "markdown",
   "metadata": {},
   "source": [
    "Regex = \\d+ files? found\\? , también podría ser = \\d\\d? files? found\\? pero es más restrictivo\n",
    "\n",
    "* Match\t**1 file found?**\tSuccess\n",
    "* Match\t**2 files found?**\tSuccess\n",
    "* Match\t**24 files found?**\tSuccess\n",
    "* Skip\tNo files found."
   ]
  },
  {
   "cell_type": "markdown",
   "metadata": {},
   "source": [
    "Al tratar con entradas del mundo real, como archivos de registro e incluso entradas de usuarios, es difícil no encontrarse con espacios en blanco. Los usamos para formatear piezas de información para que sea más fácil leer y escanear visualmente, y un simple espacio puede complicar la expresión regular más sencilla.\n",
    "\n",
    "Las formas más comunes de espacios en blanco que usarás con expresiones regulares son el espacio (␣), el tabulador (\\t), el salto de línea (\\n) y el retorno de carro (\\r) (útil en entornos de Windows), y estos caracteres especiales coinciden con cada uno de sus espacios en blanco respectivos. Además, un carácter especial de espacio en blanco \\s coincidirá con cualquiera de los espacios en blanco específicos anteriores y es extremadamente útil al tratar con texto de entrada en bruto.\n",
    "\n"
   ]
  },
  {
   "cell_type": "markdown",
   "metadata": {},
   "source": [
    "Regex = \n",
    "\n",
    "* Match\t**1.   abc**\tSuccess\n",
    "* Match\t**2.\tabc**\tSuccess\n",
    "* Match\t**3.           abc**\tSuccess\n",
    "* Skip\t4.abc"
   ]
  },
  {
   "cell_type": "markdown",
   "metadata": {},
   "source": [
    "Hasta ahora, hemos estado escribiendo expresiones regulares que coinciden parcialmente con fragmentos en todo el texto. A veces esto no es deseable, imagina, por ejemplo, que queremos coincidir con la palabra \"success\" en un archivo de registro. ¡Ciertamente no queremos que ese patrón coincida con una línea que diga \"Error: operación no exitosa\"! Por eso, a menudo es una buena práctica escribir expresiones regulares lo más específicas posible para asegurarnos de no obtener falsos positivos al hacer coincidir con texto del mundo real.\n",
    "\n",
    "Una forma de ajustar nuestros patrones es definir un patrón que describa tanto el inicio como el final de la línea usando los metacaracteres especiales ^ (sombrero) y $ (signo de dólar). En el ejemplo anterior, podemos usar el patrón ^success para coincidir solo con una línea que comienza con la palabra \"success\", pero no con la línea \"Error: operación no exitosa\". Y si combinas tanto el sombrero como el signo de dólar, creas un patrón que coincide completamente con la línea desde el principio hasta el final.\n",
    "\n",
    "Ten en cuenta que esto es diferente al sombrero utilizado dentro de un conjunto de corchetes [^...] para excluir caracteres, lo que puede ser confuso al leer expresiones regulares.\n",
    "\n"
   ]
  },
  {
   "cell_type": "markdown",
   "metadata": {},
   "source": [
    "Regex = ^Mission: successful$\n",
    "* Match\t**Mission: successful**\tSuccess\n",
    "* Skip\tLast Mission: unsuccessful\tTo be completed\n",
    "* Skip\tNext Mission: successful upon capture of target"
   ]
  },
  {
   "cell_type": "markdown",
   "metadata": {},
   "source": [
    "Las expresiones regulares nos permiten no solo coincidir con el texto, sino también extraer información para su posterior procesamiento. Esto se hace definiendo grupos de caracteres y capturándolos usando los metacaracteres especiales paréntesis ( y ). Cualquier subpatrón dentro de un par de paréntesis será capturado como un grupo. En la práctica, esto se puede usar para extraer información como números de teléfono o correos electrónicos de todo tipo de datos.\n",
    "\n",
    "Imagina, por ejemplo, que tuvieras una herramienta de línea de comandos para listar todos los archivos de imagen que tienes en la nube. Luego podrías usar un patrón como ^(IMG\\d+.png)$ para capturar y extraer el nombre completo del archivo, pero si solo quisieras capturar el nombre del archivo sin la extensión, podrías usar el patrón <blockquote>^(IMG\\d+).png$</blockquote> que solo captura la parte anterior al punto."
   ]
  },
  {
   "cell_type": "markdown",
   "metadata": {},
   "source": []
  }
 ],
 "metadata": {
  "kernelspec": {
   "display_name": ".venv",
   "language": "python",
   "name": "python3"
  },
  "language_info": {
   "codemirror_mode": {
    "name": "ipython",
    "version": 3
   },
   "file_extension": ".py",
   "mimetype": "text/x-python",
   "name": "python",
   "nbconvert_exporter": "python",
   "pygments_lexer": "ipython3",
   "version": "3.11.0"
  },
  "orig_nbformat": 4
 },
 "nbformat": 4,
 "nbformat_minor": 2
}
